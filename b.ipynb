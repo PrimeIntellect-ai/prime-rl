{
 "cells": [
  {
   "cell_type": "code",
   "execution_count": null,
   "metadata": {},
   "outputs": [],
   "source": [
    "import os\n",
    "os.environ[\"CUDA_VISIBLE_DEVICES\"] = \"1,2\"\n",
    "from vllm import LLM"
   ]
  },
  {
   "cell_type": "code",
   "execution_count": null,
   "metadata": {},
   "outputs": [],
   "source": [
    "from src.zeroband.inference.pipeline import PipelineConfig, patch_model_load\n",
    "\n",
    "config = PipelineConfig(\n",
    "    rank=0,\n",
    "    world_size=2,\n",
    "    iroh_seed=None,\n",
    "    iroh_peer_id=None,\n",
    "    connection_num_retries=3,\n",
    ")\n",
    "patch_model_load(config)"
   ]
  },
  {
   "cell_type": "code",
   "execution_count": null,
   "metadata": {},
   "outputs": [],
   "source": [
    "llm = LLM(\n",
    "    model=\"Qwen/Qwen3-0.6B\",\n",
    "    tensor_parallel_size=2,\n",
    "    max_seq_len_to_capture=16384,\n",
    "    max_model_len=16384,\n",
    "    quantization=None,\n",
    "    enforce_eager=True,\n",
    "    disable_async_output_proc=True,\n",
    "    download_dir=\"/alloc\",\n",
    "    dtype=\"bfloat16\")"
   ]
  },
  {
   "cell_type": "code",
   "execution_count": null,
   "metadata": {},
   "outputs": [],
   "source": [
    "executor = llm.llm_engine.model_executor\n",
    "driver_worker = executor.driver_worker\n",
    "worker = driver_worker.worker\n",
    "model_runner = worker.model_runner\n",
    "model = model_runner.model\n",
    "model"
   ]
  },
  {
   "cell_type": "code",
   "execution_count": null,
   "metadata": {},
   "outputs": [],
   "source": [
    "print(model.model.embed_tokens.weight.shape)\n",
    "model.model.embed_tokens.weight"
   ]
  },
  {
   "cell_type": "code",
   "execution_count": null,
   "metadata": {},
   "outputs": [],
   "source": [
    "print(model.model.layers[0].self_attn.qkv_proj.weight.shape)\n",
    "model.model.layers[0].self_attn.qkv_proj.weight"
   ]
  },
  {
   "cell_type": "code",
   "execution_count": null,
   "metadata": {},
   "outputs": [],
   "source": [
    "print(model.model.layers[13].self_attn.qkv_proj.weight.shape)\n",
    "model.model.layers[13].self_attn.qkv_proj.weight"
   ]
  },
  {
   "cell_type": "code",
   "execution_count": null,
   "metadata": {},
   "outputs": [],
   "source": [
    "from vllm import SamplingParams\n",
    "\n",
    "sampling_params = SamplingParams(\n",
    "    max_tokens=10,\n",
    "    temperature=0.7,\n",
    "    top_p=0.9,\n",
    "    top_k=40,\n",
    "    seed=42,\n",
    ")\n",
    "request_outputs = llm.generate(\"Hello, world!\", sampling_params)\n",
    "print(request_outputs[0].outputs[0].text)"
   ]
  },
  {
   "cell_type": "code",
   "execution_count": null,
   "metadata": {},
   "outputs": [],
   "source": [
    "qkv_proj = model.model.layers[0].self_attn.qkv_proj\n",
    "print(qkv_proj)\n",
    "print(qkv_proj.gather_output)"
   ]
  },
  {
   "cell_type": "code",
   "execution_count": null,
   "metadata": {},
   "outputs": [],
   "source": [
    "o_proj = model.model.layers[0].self_attn.o_proj\n",
    "print(o_proj)\n",
    "print(o_proj.tp_size)\n",
    "print(o_proj.reduce_results)"
   ]
  },
  {
   "cell_type": "code",
   "execution_count": null,
   "metadata": {},
   "outputs": [],
   "source": [
    "import torch\n",
    "torch.manual_seed(0)\n",
    "\n",
    "positions = torch.arange(10, device=\"cuda\", dtype=torch.int64)\n",
    "hidden_states = torch.randn(10, 3072, device=\"cuda\", dtype=torch.bfloat16)\n",
    "residual = torch.randn(10, 3072, device=\"cuda\", dtype=torch.bfloat16)\n",
    "\n",
    "model.model.layers[0].mlp.down_proj(hidden_states)"
   ]
  },
  {
   "cell_type": "code",
   "execution_count": null,
   "metadata": {},
   "outputs": [],
   "source": [
    "print_model = lambda model: print(model.model.layers[0])\n",
    "llm.llm_engine.model_executor.apply_model(print_model)"
   ]
  }
 ],
 "metadata": {
  "kernelspec": {
   "display_name": ".venv",
   "language": "python",
   "name": "python3"
  },
  "language_info": {
   "codemirror_mode": {
    "name": "ipython",
    "version": 3
   },
   "file_extension": ".py",
   "mimetype": "text/x-python",
   "name": "python",
   "nbconvert_exporter": "python",
   "pygments_lexer": "ipython3",
   "version": "3.11.12"
  }
 },
 "nbformat": 4,
 "nbformat_minor": 2
}
